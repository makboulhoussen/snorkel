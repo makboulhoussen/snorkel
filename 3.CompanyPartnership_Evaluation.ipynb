{
 "cells": [
  {
   "cell_type": "markdown",
   "metadata": {},
   "source": [
    "# Etude Snorkel / Extration de partenariats d'entreprises\n",
    "Pour ce projet, nous allons essayer d'extraire des relations de partenariats économiques entre des entreprises depuis des articles. <br/>\n",
    "Le but étant de comprendre l'utilisation de snorkel.\n",
    "\n",
    "Nous allons découper notre traitement dans 3 notebooks (chacun correspondant à une étape du pipeline `Snorkel` :\n",
    "1. Preprocessing\n",
    "2. Training\n",
    "3. Evaluation"
   ]
  },
  {
   "cell_type": "markdown",
   "metadata": {},
   "source": [
    "## Partie III: Entrainement d'un modèle d'extraction final\n",
    "\n",
    "Dans ce notebook, nous allons utiliser nos labels (bruités) que nous avons générés dans le notebook précédent pour entrainer notre modèle d'extraction final.\n",
    "\n",
    "Nous allons entrainer un Bi-LSTM qui fait parti de l'état de l'art des réseaux d'apprentissage profond.\n",
    "\n",
    "***"
   ]
  },
  {
   "cell_type": "code",
   "execution_count": 64,
   "metadata": {},
   "outputs": [
    {
     "name": "stdout",
     "output_type": "stream",
     "text": [
      "The autoreload extension is already loaded. To reload it, use:\n",
      "  %reload_ext autoreload\n"
     ]
    }
   ],
   "source": [
    "%load_ext autoreload\n",
    "%autoreload 2\n",
    "%matplotlib inline\n",
    "from snorkel.models import candidate_subclass\n",
    "from snorkel.annotations import load_marginals\n",
    "from snorkel.annotations import load_gold_labels\n",
    "from snorkel import SnorkelSession\n",
    "\n",
    "#from snorkel.learning.pytorch import LSTM\n",
    "#from snorkel.learning.pytorch.rnn import LSTM\n",
    "\n",
    "session = SnorkelSession()"
   ]
  },
  {
   "cell_type": "markdown",
   "metadata": {},
   "source": [
    "# I. Chargement des données"
   ]
  },
  {
   "cell_type": "markdown",
   "metadata": {},
   "source": [
    "On initialise notre schéma."
   ]
  },
  {
   "cell_type": "code",
   "execution_count": 76,
   "metadata": {},
   "outputs": [],
   "source": [
    "Partner = candidate_subclass('Partner', ['company1', 'company2'])"
   ]
  },
  {
   "cell_type": "markdown",
   "metadata": {},
   "source": [
    "Chargement des labels d'entrainement probabilistes (_marginals_)"
   ]
  },
  {
   "cell_type": "code",
   "execution_count": 83,
   "metadata": {},
   "outputs": [],
   "source": [
    "train_marginals = load_marginals(session, split=0)"
   ]
  },
  {
   "cell_type": "markdown",
   "metadata": {},
   "source": [
    "Chargement des candidats"
   ]
  },
  {
   "cell_type": "code",
   "execution_count": 84,
   "metadata": {},
   "outputs": [],
   "source": [
    "train_cands = session.query(Partner).filter(Partner.split == 0).all()\n",
    "dev_cands   = session.query(Partner).filter(Partner.split == 1).all()\n",
    "test_cands  = session.query(Partner).filter(Partner.split == 2).all()"
   ]
  },
  {
   "cell_type": "markdown",
   "metadata": {},
   "source": [
    "Chargement des gold labels pour l'évaluation de notre modélisation."
   ]
  },
  {
   "cell_type": "code",
   "execution_count": 85,
   "metadata": {},
   "outputs": [],
   "source": [
    "L_gold_dev  = load_gold_labels(session, annotator_name='gold', split=1)\n",
    "L_gold_test = load_gold_labels(session, annotator_name='gold', split=2)"
   ]
  },
  {
   "cell_type": "markdown",
   "metadata": {},
   "source": [
    "# II. Entrainement d'un modèle LSTM d'extraction"
   ]
  },
  {
   "cell_type": "code",
   "execution_count": 90,
   "metadata": {},
   "outputs": [
    {
     "name": "stdout",
     "output_type": "stream",
     "text": [
      "[LSTM] Training model\n",
      "[LSTM] n_train=1764  #epochs=12  batch size=64\n",
      "[LSTM] Epoch 1 (13.10s)\tAverage loss=0.595623\tDev F1=41.46\n",
      "[LSTM] Epoch 2 (24.37s)\tAverage loss=0.529658\tDev F1=49.02\n",
      "[LSTM] Epoch 3 (36.14s)\tAverage loss=0.522368\tDev F1=49.44\n",
      "[LSTM] Epoch 4 (52.08s)\tAverage loss=0.517288\tDev F1=47.31\n",
      "[LSTM] Epoch 5 (70.22s)\tAverage loss=0.512169\tDev F1=50.00\n",
      "[LSTM] Epoch 6 (82.74s)\tAverage loss=0.508329\tDev F1=50.00\n",
      "[LSTM] Epoch 7 (95.93s)\tAverage loss=0.507193\tDev F1=43.59\n",
      "[LSTM] Epoch 8 (111.31s)\tAverage loss=0.506622\tDev F1=48.35\n",
      "[LSTM] Epoch 9 (123.31s)\tAverage loss=0.505472\tDev F1=49.44\n",
      "[LSTM] Epoch 10 (141.09s)\tAverage loss=0.504679\tDev F1=48.28\n",
      "[LSTM] Epoch 11 (155.21s)\tAverage loss=0.504336\tDev F1=49.46\n",
      "[LSTM] Model saved as <LSTM>\n",
      "[LSTM] Epoch 12 (170.48s)\tAverage loss=0.503958\tDev F1=45.24\n",
      "[LSTM] Training done (170.77s)\n",
      "[LSTM] Loaded model <LSTM>\n"
     ]
    }
   ],
   "source": [
    "from snorkel.learning.pytorch import LSTM\n",
    "\n",
    "train_kwargs = {\n",
    "    'lr':              0.01,\n",
    "    'embedding_dim':   100,\n",
    "    'hidden_dim':      100,\n",
    "    'n_epochs':        12,\n",
    "    'dropout':         0.5,\n",
    "    'rebalance':       0.25,\n",
    "    'print_freq':      1,\n",
    "    'seed':            1701\n",
    "}\n",
    "\n",
    "lstm = LSTM(n_threads=None)\n",
    "lstm.train(train_cands, train_marginals, X_dev=dev_cands, Y_dev=L_gold_dev, **train_kwargs)"
   ]
  },
  {
   "cell_type": "markdown",
   "metadata": {},
   "source": [
    "## Score sur jeu de développement"
   ]
  },
  {
   "cell_type": "code",
   "execution_count": 88,
   "metadata": {},
   "outputs": [
    {
     "name": "stdout",
     "output_type": "stream",
     "text": [
      "Prec: 0.478, Recall: 0.512, F1 Score: 0.494\n"
     ]
    }
   ],
   "source": [
    "p, r, f1 = lstm.score(dev_cands, L_gold_dev)\n",
    "print(\"Prec: {0:.3f}, Recall: {1:.3f}, F1 Score: {2:.3f}\".format(p, r, f1))"
   ]
  },
  {
   "cell_type": "markdown",
   "metadata": {},
   "source": [
    "## Score sur Test"
   ]
  },
  {
   "cell_type": "code",
   "execution_count": 87,
   "metadata": {},
   "outputs": [
    {
     "name": "stdout",
     "output_type": "stream",
     "text": [
      "Prec: 0.536, Recall: 0.407, F1 Score: 0.463\n"
     ]
    }
   ],
   "source": [
    "p, r, f1 = lstm.score(test_cands, L_gold_test)\n",
    "print(\"Prec: {0:.3f}, Recall: {1:.3f}, F1 Score: {2:.3f}\".format(p, r, f1))"
   ]
  },
  {
   "cell_type": "code",
   "execution_count": null,
   "metadata": {},
   "outputs": [],
   "source": []
  },
  {
   "cell_type": "code",
   "execution_count": null,
   "metadata": {},
   "outputs": [],
   "source": []
  }
 ],
 "metadata": {
  "kernelspec": {
   "display_name": "Python (snorkel)",
   "language": "python",
   "name": "snorkel"
  },
  "language_info": {
   "codemirror_mode": {
    "name": "ipython",
    "version": 3
   },
   "file_extension": ".py",
   "mimetype": "text/x-python",
   "name": "python",
   "nbconvert_exporter": "python",
   "pygments_lexer": "ipython3",
   "version": "3.6.5"
  }
 },
 "nbformat": 4,
 "nbformat_minor": 2
}
