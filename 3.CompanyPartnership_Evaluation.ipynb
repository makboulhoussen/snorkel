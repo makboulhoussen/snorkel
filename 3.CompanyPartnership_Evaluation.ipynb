{
 "cells": [
  {
   "cell_type": "markdown",
   "metadata": {},
   "source": [
    "# Etude Snorkel / Extraction de partenariats d'entreprises\n",
    "Pour ce projet, nous allons essayer d'extraire des relations de partenariats économiques entre des entreprises depuis des articles. <br/>\n",
    "Le but étant de comprendre l'utilisation de snorkel.\n",
    "\n",
    "Nous allons découper notre traitement dans 3 notebooks (chacun correspondant à une étape du pipeline `Snorkel` :\n",
    "1. Preprocessing\n",
    "2. Training\n",
    "3. Evaluation"
   ]
  },
  {
   "cell_type": "markdown",
   "metadata": {},
   "source": [
    "## Partie III: Entrainement d'un modèle d'extraction final\n",
    "\n",
    "Dans ce notebook, nous allons utiliser nos labels (bruités) que nous avons générés dans le notebook précédent pour entrainer notre modèle d'extraction final.\n",
    "\n",
    "Nous allons entrainer un Bi-LSTM qui fait parti de l'état de l'art des réseaux d'apprentissage profond.\n",
    "\n",
    "***"
   ]
  },
  {
   "cell_type": "code",
   "execution_count": 1,
   "metadata": {},
   "outputs": [],
   "source": [
    "%load_ext autoreload\n",
    "%autoreload 2\n",
    "%matplotlib inline\n",
    "from snorkel.models import candidate_subclass\n",
    "from snorkel.annotations import load_marginals\n",
    "from snorkel.annotations import load_gold_labels\n",
    "from snorkel import SnorkelSession\n",
    "\n",
    "#from snorkel.learning.pytorch import LSTM\n",
    "#from snorkel.learning.pytorch.rnn import LSTM\n",
    "\n",
    "session = SnorkelSession()"
   ]
  },
  {
   "cell_type": "markdown",
   "metadata": {},
   "source": [
    "# I. Chargement des données"
   ]
  },
  {
   "cell_type": "markdown",
   "metadata": {},
   "source": [
    "On initialise notre schéma."
   ]
  },
  {
   "cell_type": "code",
   "execution_count": 2,
   "metadata": {},
   "outputs": [],
   "source": [
    "Partner = candidate_subclass('Partner', ['company1', 'company2'])"
   ]
  },
  {
   "cell_type": "markdown",
   "metadata": {},
   "source": [
    "Chargement des labels d'entrainement probabilistes (_marginals_)"
   ]
  },
  {
   "cell_type": "code",
   "execution_count": 19,
   "metadata": {},
   "outputs": [],
   "source": [
    "train_marginals = load_marginals(session, split=0)"
   ]
  },
  {
   "cell_type": "markdown",
   "metadata": {},
   "source": [
    "Chargement des candidats"
   ]
  },
  {
   "cell_type": "code",
   "execution_count": 4,
   "metadata": {},
   "outputs": [],
   "source": [
    "train_cands = session.query(Partner).filter(Partner.split == 0).all()\n",
    "dev_cands   = session.query(Partner).filter(Partner.split == 1).all()\n",
    "test_cands  = session.query(Partner).filter(Partner.split == 2).all()"
   ]
  },
  {
   "cell_type": "markdown",
   "metadata": {},
   "source": [
    "Chargement des gold labels pour l'évaluation de notre modélisation."
   ]
  },
  {
   "cell_type": "code",
   "execution_count": 5,
   "metadata": {},
   "outputs": [],
   "source": [
    "L_gold_dev  = load_gold_labels(session, annotator_name='gold', split=1)\n",
    "L_gold_test = load_gold_labels(session, annotator_name='gold', split=2)"
   ]
  },
  {
   "cell_type": "markdown",
   "metadata": {},
   "source": [
    "# II. Entrainement d'un modèle LSTM d'extraction"
   ]
  },
  {
   "cell_type": "code",
   "execution_count": 26,
   "metadata": {},
   "outputs": [
    {
     "name": "stdout",
     "output_type": "stream",
     "text": [
      "[LSTM] Training model\n",
      "[LSTM] n_train=1369  #epochs=12  batch size=64\n",
      "[LSTM] Epoch 1 (8.47s)\tAverage loss=0.691718\tDev F1=42.86\n",
      "[LSTM] Epoch 2 (17.84s)\tAverage loss=0.666409\tDev F1=45.93\n",
      "[LSTM] Epoch 3 (28.51s)\tAverage loss=0.647650\tDev F1=41.54\n",
      "[LSTM] Epoch 4 (38.71s)\tAverage loss=0.647364\tDev F1=48.48\n",
      "[LSTM] Epoch 5 (49.03s)\tAverage loss=0.637925\tDev F1=43.54\n",
      "[LSTM] Epoch 6 (63.10s)\tAverage loss=0.637171\tDev F1=44.44\n",
      "[LSTM] Epoch 7 (74.11s)\tAverage loss=0.634260\tDev F1=45.87\n",
      "[LSTM] Epoch 8 (85.98s)\tAverage loss=0.626938\tDev F1=43.94\n",
      "[LSTM] Epoch 9 (98.08s)\tAverage loss=0.621916\tDev F1=43.18\n",
      "[LSTM] Epoch 10 (110.07s)\tAverage loss=0.623558\tDev F1=45.00\n",
      "[LSTM] Epoch 11 (121.34s)\tAverage loss=0.618002\tDev F1=48.65\n",
      "[LSTM] Model saved as <LSTM>\n",
      "[LSTM] Epoch 12 (130.95s)\tAverage loss=0.616145\tDev F1=43.08\n",
      "[LSTM] Training done (131.21s)\n",
      "[LSTM] Loaded model <LSTM>\n"
     ]
    }
   ],
   "source": [
    "from snorkel.learning.pytorch import LSTM\n",
    "\n",
    "train_kwargs = {\n",
    "    'lr':              0.01,\n",
    "    'embedding_dim':   100,\n",
    "    'hidden_dim':      100,\n",
    "    'n_epochs':        12,\n",
    "    'dropout':         0.5,\n",
    "    'rebalance':       0.25,\n",
    "    'print_freq':      1,\n",
    "    'seed':            1701\n",
    "}\n",
    "\n",
    "lstm = LSTM(n_threads=None)\n",
    "lstm.train(train_cands, train_marginals, X_dev=dev_cands, Y_dev=L_gold_dev, **train_kwargs)"
   ]
  },
  {
   "cell_type": "markdown",
   "metadata": {},
   "source": [
    "## Score sur jeu de développement"
   ]
  },
  {
   "cell_type": "code",
   "execution_count": 27,
   "metadata": {},
   "outputs": [
    {
     "name": "stdout",
     "output_type": "stream",
     "text": [
      "Prec: 0.397, Recall: 0.628, F1 Score: 0.486\n"
     ]
    }
   ],
   "source": [
    "p, r, f1 = lstm.score(dev_cands, L_gold_dev)\n",
    "print(\"Prec: {0:.3f}, Recall: {1:.3f}, F1 Score: {2:.3f}\".format(p, r, f1))"
   ]
  },
  {
   "cell_type": "markdown",
   "metadata": {},
   "source": [
    "## Score sur Test"
   ]
  },
  {
   "cell_type": "code",
   "execution_count": 28,
   "metadata": {},
   "outputs": [
    {
     "name": "stdout",
     "output_type": "stream",
     "text": [
      "Prec: 0.386, Recall: 0.835, F1 Score: 0.528\n"
     ]
    }
   ],
   "source": [
    "p, r, f1 = lstm.score(test_cands, L_gold_test)\n",
    "print(\"Prec: {0:.3f}, Recall: {1:.3f}, F1 Score: {2:.3f}\".format(p, r, f1))"
   ]
  },
  {
   "cell_type": "code",
   "execution_count": null,
   "metadata": {},
   "outputs": [],
   "source": []
  },
  {
   "cell_type": "code",
   "execution_count": null,
   "metadata": {},
   "outputs": [],
   "source": []
  }
 ],
 "metadata": {
  "kernelspec": {
   "display_name": "Python (snorkel)",
   "language": "python",
   "name": "snorkel"
  },
  "language_info": {
   "codemirror_mode": {
    "name": "ipython",
    "version": 3
   },
   "file_extension": ".py",
   "mimetype": "text/x-python",
   "name": "python",
   "nbconvert_exporter": "python",
   "pygments_lexer": "ipython3",
   "version": "3.6.5"
  }
 },
 "nbformat": 4,
 "nbformat_minor": 2
}
